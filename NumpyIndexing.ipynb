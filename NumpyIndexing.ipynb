{
  "nbformat": 4,
  "nbformat_minor": 0,
  "metadata": {
    "colab": {
      "name": "Untitled7.ipynb",
      "provenance": [],
      "collapsed_sections": [],
      "authorship_tag": "ABX9TyMYcGiVUyulspKjdksnjZR+",
      "include_colab_link": true
    },
    "kernelspec": {
      "name": "python3",
      "display_name": "Python 3"
    }
  },
  "cells": [
    {
      "cell_type": "markdown",
      "metadata": {
        "id": "view-in-github",
        "colab_type": "text"
      },
      "source": [
        "<a href=\"https://colab.research.google.com/github/YadavSanjay/elementary/blob/master/NumpyIndexing.ipynb\" target=\"_parent\"><img src=\"https://colab.research.google.com/assets/colab-badge.svg\" alt=\"Open In Colab\"/></a>"
      ]
    },
    {
      "cell_type": "code",
      "metadata": {
        "id": "V8GBim8DLkwQ",
        "colab_type": "code",
        "colab": {}
      },
      "source": [
        "import numpy as np"
      ],
      "execution_count": 1,
      "outputs": []
    },
    {
      "cell_type": "code",
      "metadata": {
        "id": "UnqzY7_gLv7j",
        "colab_type": "code",
        "colab": {
          "base_uri": "https://localhost:8080/",
          "height": 357
        },
        "outputId": "501aaa03-953b-48a4-aaa8-c84112f93c6d"
      },
      "source": [
        "a = np.array([ [[1,2,0],[3,4,5]], [[5,8,3],[7,6,1]],[[5,9,10],[9,12,11]] ])\n",
        "print(a)\n",
        "print(a.shape)\n",
        "\n",
        "# print values corresponding to argmax o/p\n",
        "# axis = 0\n",
        "a0 = a.argmax(axis=0)\n",
        "print(a0.shape)\n",
        "a0_op = np.zeros(a0.shape, dtype=np.int32)\n",
        "for i in range(a0.shape[0]):\n",
        "  for j in range(a0.shape[1]):\n",
        "    a0_op[i,j] = a[::,i:i+1:,j:j+1:].reshape(-1,)[a0[i][j]]\n",
        "print(a0_op)\n",
        "\n",
        "# axis = 1\n",
        "a1 = a.argmax(axis=1)\n",
        "print(a1.shape)\n",
        "a1_op = np.zeros(a1.shape, dtype=np.int32)\n",
        "for i in range(a1.shape[0]):\n",
        "  for j in range(a1.shape[1]):\n",
        "    a1_op[i,j] = a[i:i+1:,::,j:j+1:].reshape(-1,)[a1[i][j]]\n",
        "print(a1_op)\n",
        "\n",
        "\n",
        "# axis = 2\n",
        "a2 = a.argmax(axis=2)\n",
        "print(a2.shape)\n",
        "a2_op = np.zeros(a2.shape, dtype=np.int32)\n",
        "for i in range(a2.shape[0]):\n",
        "  for j in range(a2.shape[1]):\n",
        "    a2_op[i,j] = a[i:i+1:,j:j+1:,::].reshape(-1,)[a2[i][j]]\n",
        "print(a2_op)\n"
      ],
      "execution_count": 16,
      "outputs": [
        {
          "output_type": "stream",
          "text": [
            "[[[ 1  2  0]\n",
            "  [ 3  4  5]]\n",
            "\n",
            " [[ 5  8  3]\n",
            "  [ 7  6  1]]\n",
            "\n",
            " [[ 5  9 10]\n",
            "  [ 9 12 11]]]\n",
            "(3, 2, 3)\n",
            "(2, 3)\n",
            "[[ 5  9 10]\n",
            " [ 9 12 11]]\n",
            "(3, 3)\n",
            "[[ 3  4  5]\n",
            " [ 7  8  3]\n",
            " [ 9 12 11]]\n",
            "(3, 2)\n",
            "[[ 2  5]\n",
            " [ 8  7]\n",
            " [10 12]]\n"
          ],
          "name": "stdout"
        }
      ]
    },
    {
      "cell_type": "code",
      "metadata": {
        "id": "x-FchrNuyMhH",
        "colab_type": "code",
        "colab": {
          "base_uri": "https://localhost:8080/",
          "height": 34
        },
        "outputId": "255db7d4-24d1-401a-878b-f4873d4e61f9"
      },
      "source": [
        "print(a[::,0:1:,1:2:].reshape(-1,))\n",
        "#[ [1,3,5,7,5,9], [2,4,8,6,9,12], [0,5,3,1,10,11] ]\n",
        "#[ [1,3],[2,4],[0,5],[5,7],[8,6],[3,1],[5,9],[9,12],[10,11] ]"
      ],
      "execution_count": 9,
      "outputs": [
        {
          "output_type": "stream",
          "text": [
            "[2 8 9]\n"
          ],
          "name": "stdout"
        }
      ]
    },
    {
      "cell_type": "code",
      "metadata": {
        "id": "f2ZPljFbyNYO",
        "colab_type": "code",
        "colab": {}
      },
      "source": [
        ""
      ],
      "execution_count": null,
      "outputs": []
    }
  ]
}